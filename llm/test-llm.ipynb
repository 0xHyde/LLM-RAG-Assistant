{
 "cells": [
  {
   "cell_type": "code",
   "execution_count": 6,
   "metadata": {
    "ExecuteTime": {
     "end_time": "2024-03-01T11:06:32.324205Z",
     "start_time": "2024-03-01T11:06:26.128218Z"
    }
   },
   "outputs": [
    {
     "data": {
      "text/plain": "'抱歉，作为一个AI语言模型，我没有具体的“行为”或“动作”，我只是在等待用户与我进行交互，以便提供信息、解答问题或进行对话。请问您有什么需要帮助或者想要聊一聊的话题吗？'"
     },
     "execution_count": 6,
     "metadata": {},
     "output_type": "execute_result"
    }
   ],
   "source": [
    "from llm.get_llm import get_llm\n",
    "\n",
    "llm = get_llm(model_name='qwen-max')\n",
    "llm(\"你在干嘛，是不\")"
   ]
  }
 ],
 "metadata": {
  "kernelspec": {
   "display_name": "base",
   "language": "python",
   "name": "python3"
  },
  "language_info": {
   "codemirror_mode": {
    "name": "ipython",
    "version": 3
   },
   "file_extension": ".py",
   "mimetype": "text/x-python",
   "name": "python",
   "nbconvert_exporter": "python",
   "pygments_lexer": "ipython3",
   "version": "3.11.7"
  }
 },
 "nbformat": 4,
 "nbformat_minor": 2
}
