{
 "cells": [
  {
   "cell_type": "code",
   "execution_count": 1,
   "id": "initial_id",
   "metadata": {
    "collapsed": true,
    "ExecuteTime": {
     "end_time": "2024-03-06T02:12:45.903032Z",
     "start_time": "2024-03-06T02:12:43.243065Z"
    }
   },
   "outputs": [],
   "source": [
    "from chat_qa_chian import RGA_Chain"
   ]
  },
  {
   "cell_type": "code",
   "outputs": [
    {
     "name": "stdout",
     "output_type": "stream",
     "text": [
      "loaded successfully\n"
     ]
    }
   ],
   "source": [
    "llm = RGA_Chain()\n",
    "llm.get_docs_from_txt('../document_store.txt')"
   ],
   "metadata": {
    "collapsed": false,
    "ExecuteTime": {
     "end_time": "2024-03-06T02:12:46.031362Z",
     "start_time": "2024-03-06T02:12:45.904125Z"
    }
   },
   "id": "f3daaa3a870661f2",
   "execution_count": 2
  },
  {
   "cell_type": "code",
   "outputs": [
    {
     "data": {
      "text/plain": "'在讨论面向对象技术时，任务分解可以通过多种方式实现。其中一种方法是“方法时间测量”(Methods Time Measurement, MTM)，它将人类工作分解为15个基本动作（或称为对象），每个动作根据不同的因素分配一定的时间。例如，在去毛刺这一工序中，工人的工作被细分为诸如伸手拿部件、抓紧部件、移动部件、旋转身体、行走等基本动作，并计算了每个动作所需的时间。\\n\\n此外，在模拟优化过程中，通过组合不同类型的“基础任务”，如分配、选择和顺序构建优化任务也是一种任务分解的方法。这种情况下，GAOptimization对象会针对各个基础任务生成解决方案，每个解决方案被称为一个染色体，所有染色体共同构成一个个体，其适应度值由模拟模型或评估方法确定，每个个体可视为一个优化问题的解决方案。'"
     },
     "execution_count": 3,
     "metadata": {},
     "output_type": "execute_result"
    }
   ],
   "source": [
    "llm.answer(\"plant simulation是干啥的，请用中文回答\")"
   ],
   "metadata": {
    "collapsed": false,
    "ExecuteTime": {
     "end_time": "2024-03-06T02:13:32.845543Z",
     "start_time": "2024-03-06T02:12:46.032380Z"
    }
   },
   "id": "8c0f8050d43fcbe0",
   "execution_count": 3
  }
 ],
 "metadata": {
  "kernelspec": {
   "display_name": "Python 3",
   "language": "python",
   "name": "python3"
  },
  "language_info": {
   "codemirror_mode": {
    "name": "ipython",
    "version": 2
   },
   "file_extension": ".py",
   "mimetype": "text/x-python",
   "name": "python",
   "nbconvert_exporter": "python",
   "pygments_lexer": "ipython2",
   "version": "2.7.6"
  }
 },
 "nbformat": 4,
 "nbformat_minor": 5
}
