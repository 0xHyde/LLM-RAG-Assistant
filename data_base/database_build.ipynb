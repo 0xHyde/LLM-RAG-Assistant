{
 "cells": [
  {
   "cell_type": "code",
   "execution_count": 1,
   "id": "initial_id",
   "metadata": {
    "collapsed": true,
    "ExecuteTime": {
     "end_time": "2024-03-06T04:50:28.882741Z",
     "start_time": "2024-03-06T04:50:26.282805Z"
    }
   },
   "outputs": [],
   "source": [
    "from langchain.vectorstores import Chroma\n",
    "from langchain_community.document_loaders import PyPDFLoader\n",
    "from embedding.custom_embedding import CustomEmbeddings\n",
    "from langchain.text_splitter import CharacterTextSplitter\n",
    "import glob"
   ]
  },
  {
   "cell_type": "code",
   "outputs": [
    {
     "ename": "KeyboardInterrupt",
     "evalue": "",
     "output_type": "error",
     "traceback": [
      "\u001B[0;31m---------------------------------------------------------------------------\u001B[0m",
      "\u001B[0;31mKeyboardInterrupt\u001B[0m                         Traceback (most recent call last)",
      "Cell \u001B[0;32mIn[2], line 5\u001B[0m\n\u001B[1;32m      3\u001B[0m \u001B[38;5;66;03m# 加载PDF\u001B[39;00m\n\u001B[1;32m      4\u001B[0m pdf_files \u001B[38;5;241m=\u001B[39m DirectoryLoader(\u001B[38;5;124m'\u001B[39m\u001B[38;5;124m../Knowledge_data/pm\u001B[39m\u001B[38;5;124m'\u001B[39m,glob\u001B[38;5;241m=\u001B[39m\u001B[38;5;124m\"\u001B[39m\u001B[38;5;124m./*.pdf\u001B[39m\u001B[38;5;124m\"\u001B[39m, loader_cls\u001B[38;5;241m=\u001B[39mPyPDFLoader)\n\u001B[0;32m----> 5\u001B[0m loaders \u001B[38;5;241m=\u001B[39m pdf_files\u001B[38;5;241m.\u001B[39mload()\n",
      "File \u001B[0;32m/opt/homebrew/anaconda3/lib/python3.11/site-packages/langchain_community/document_loaders/directory.py:194\u001B[0m, in \u001B[0;36mDirectoryLoader.load\u001B[0;34m(self)\u001B[0m\n\u001B[1;32m    192\u001B[0m \u001B[38;5;28;01melse\u001B[39;00m:\n\u001B[1;32m    193\u001B[0m     \u001B[38;5;28;01mfor\u001B[39;00m i \u001B[38;5;129;01min\u001B[39;00m items:\n\u001B[0;32m--> 194\u001B[0m         \u001B[38;5;28mself\u001B[39m\u001B[38;5;241m.\u001B[39mload_file(i, p, docs, pbar)\n\u001B[1;32m    196\u001B[0m \u001B[38;5;28;01mif\u001B[39;00m pbar:\n\u001B[1;32m    197\u001B[0m     pbar\u001B[38;5;241m.\u001B[39mclose()\n",
      "File \u001B[0;32m/opt/homebrew/anaconda3/lib/python3.11/site-packages/langchain_community/document_loaders/directory.py:130\u001B[0m, in \u001B[0;36mDirectoryLoader.load_file\u001B[0;34m(self, item, path, docs, pbar)\u001B[0m\n\u001B[1;32m    128\u001B[0m \u001B[38;5;28;01mtry\u001B[39;00m:\n\u001B[1;32m    129\u001B[0m     logger\u001B[38;5;241m.\u001B[39mdebug(\u001B[38;5;124mf\u001B[39m\u001B[38;5;124m\"\u001B[39m\u001B[38;5;124mProcessing file: \u001B[39m\u001B[38;5;132;01m{\u001B[39;00m\u001B[38;5;28mstr\u001B[39m(item)\u001B[38;5;132;01m}\u001B[39;00m\u001B[38;5;124m\"\u001B[39m)\n\u001B[0;32m--> 130\u001B[0m     sub_docs \u001B[38;5;241m=\u001B[39m \u001B[38;5;28mself\u001B[39m\u001B[38;5;241m.\u001B[39mloader_cls(\u001B[38;5;28mstr\u001B[39m(item), \u001B[38;5;241m*\u001B[39m\u001B[38;5;241m*\u001B[39m\u001B[38;5;28mself\u001B[39m\u001B[38;5;241m.\u001B[39mloader_kwargs)\u001B[38;5;241m.\u001B[39mload()\n\u001B[1;32m    131\u001B[0m     docs\u001B[38;5;241m.\u001B[39mextend(sub_docs)\n\u001B[1;32m    132\u001B[0m \u001B[38;5;28;01mexcept\u001B[39;00m \u001B[38;5;167;01mException\u001B[39;00m \u001B[38;5;28;01mas\u001B[39;00m e:\n",
      "File \u001B[0;32m/opt/homebrew/anaconda3/lib/python3.11/site-packages/langchain_community/document_loaders/pdf.py:162\u001B[0m, in \u001B[0;36mPyPDFLoader.load\u001B[0;34m(self)\u001B[0m\n\u001B[1;32m    160\u001B[0m \u001B[38;5;28;01mdef\u001B[39;00m \u001B[38;5;21mload\u001B[39m(\u001B[38;5;28mself\u001B[39m) \u001B[38;5;241m-\u001B[39m\u001B[38;5;241m>\u001B[39m List[Document]:\n\u001B[1;32m    161\u001B[0m \u001B[38;5;250m    \u001B[39m\u001B[38;5;124;03m\"\"\"Load given path as pages.\"\"\"\u001B[39;00m\n\u001B[0;32m--> 162\u001B[0m     \u001B[38;5;28;01mreturn\u001B[39;00m \u001B[38;5;28mlist\u001B[39m(\u001B[38;5;28mself\u001B[39m\u001B[38;5;241m.\u001B[39mlazy_load())\n",
      "File \u001B[0;32m/opt/homebrew/anaconda3/lib/python3.11/site-packages/langchain_community/document_loaders/pdf.py:172\u001B[0m, in \u001B[0;36mPyPDFLoader.lazy_load\u001B[0;34m(self)\u001B[0m\n\u001B[1;32m    170\u001B[0m \u001B[38;5;28;01melse\u001B[39;00m:\n\u001B[1;32m    171\u001B[0m     blob \u001B[38;5;241m=\u001B[39m Blob\u001B[38;5;241m.\u001B[39mfrom_path(\u001B[38;5;28mself\u001B[39m\u001B[38;5;241m.\u001B[39mfile_path)\n\u001B[0;32m--> 172\u001B[0m \u001B[38;5;28;01myield from\u001B[39;00m \u001B[38;5;28mself\u001B[39m\u001B[38;5;241m.\u001B[39mparser\u001B[38;5;241m.\u001B[39mparse(blob)\n",
      "File \u001B[0;32m/opt/homebrew/anaconda3/lib/python3.11/site-packages/langchain_community/document_loaders/base.py:111\u001B[0m, in \u001B[0;36mBaseBlobParser.parse\u001B[0;34m(self, blob)\u001B[0m\n\u001B[1;32m     96\u001B[0m \u001B[38;5;28;01mdef\u001B[39;00m \u001B[38;5;21mparse\u001B[39m(\u001B[38;5;28mself\u001B[39m, blob: Blob) \u001B[38;5;241m-\u001B[39m\u001B[38;5;241m>\u001B[39m List[Document]:\n\u001B[1;32m     97\u001B[0m \u001B[38;5;250m    \u001B[39m\u001B[38;5;124;03m\"\"\"Eagerly parse the blob into a document or documents.\u001B[39;00m\n\u001B[1;32m     98\u001B[0m \n\u001B[1;32m     99\u001B[0m \u001B[38;5;124;03m    This is a convenience method for interactive development environment.\u001B[39;00m\n\u001B[0;32m   (...)\u001B[0m\n\u001B[1;32m    109\u001B[0m \u001B[38;5;124;03m        List of documents\u001B[39;00m\n\u001B[1;32m    110\u001B[0m \u001B[38;5;124;03m    \"\"\"\u001B[39;00m\n\u001B[0;32m--> 111\u001B[0m     \u001B[38;5;28;01mreturn\u001B[39;00m \u001B[38;5;28mlist\u001B[39m(\u001B[38;5;28mself\u001B[39m\u001B[38;5;241m.\u001B[39mlazy_parse(blob))\n",
      "File \u001B[0;32m/opt/homebrew/anaconda3/lib/python3.11/site-packages/langchain_community/document_loaders/parsers/pdf.py:95\u001B[0m, in \u001B[0;36mPyPDFParser.lazy_parse\u001B[0;34m(self, blob)\u001B[0m\n\u001B[1;32m     93\u001B[0m \u001B[38;5;28;01mwith\u001B[39;00m blob\u001B[38;5;241m.\u001B[39mas_bytes_io() \u001B[38;5;28;01mas\u001B[39;00m pdf_file_obj:\n\u001B[1;32m     94\u001B[0m     pdf_reader \u001B[38;5;241m=\u001B[39m pypdf\u001B[38;5;241m.\u001B[39mPdfReader(pdf_file_obj, password\u001B[38;5;241m=\u001B[39m\u001B[38;5;28mself\u001B[39m\u001B[38;5;241m.\u001B[39mpassword)\n\u001B[0;32m---> 95\u001B[0m     \u001B[38;5;28;01myield from\u001B[39;00m [\n\u001B[1;32m     96\u001B[0m         Document(\n\u001B[1;32m     97\u001B[0m             page_content\u001B[38;5;241m=\u001B[39mpage\u001B[38;5;241m.\u001B[39mextract_text()\n\u001B[1;32m     98\u001B[0m             \u001B[38;5;241m+\u001B[39m \u001B[38;5;28mself\u001B[39m\u001B[38;5;241m.\u001B[39m_extract_images_from_page(page),\n\u001B[1;32m     99\u001B[0m             metadata\u001B[38;5;241m=\u001B[39m{\u001B[38;5;124m\"\u001B[39m\u001B[38;5;124msource\u001B[39m\u001B[38;5;124m\"\u001B[39m: blob\u001B[38;5;241m.\u001B[39msource, \u001B[38;5;124m\"\u001B[39m\u001B[38;5;124mpage\u001B[39m\u001B[38;5;124m\"\u001B[39m: page_number},\n\u001B[1;32m    100\u001B[0m         )\n\u001B[1;32m    101\u001B[0m         \u001B[38;5;28;01mfor\u001B[39;00m page_number, page \u001B[38;5;129;01min\u001B[39;00m \u001B[38;5;28menumerate\u001B[39m(pdf_reader\u001B[38;5;241m.\u001B[39mpages)\n\u001B[1;32m    102\u001B[0m     ]\n",
      "File \u001B[0;32m/opt/homebrew/anaconda3/lib/python3.11/site-packages/langchain_community/document_loaders/parsers/pdf.py:97\u001B[0m, in \u001B[0;36m<listcomp>\u001B[0;34m(.0)\u001B[0m\n\u001B[1;32m     93\u001B[0m \u001B[38;5;28;01mwith\u001B[39;00m blob\u001B[38;5;241m.\u001B[39mas_bytes_io() \u001B[38;5;28;01mas\u001B[39;00m pdf_file_obj:\n\u001B[1;32m     94\u001B[0m     pdf_reader \u001B[38;5;241m=\u001B[39m pypdf\u001B[38;5;241m.\u001B[39mPdfReader(pdf_file_obj, password\u001B[38;5;241m=\u001B[39m\u001B[38;5;28mself\u001B[39m\u001B[38;5;241m.\u001B[39mpassword)\n\u001B[1;32m     95\u001B[0m     \u001B[38;5;28;01myield from\u001B[39;00m [\n\u001B[1;32m     96\u001B[0m         Document(\n\u001B[0;32m---> 97\u001B[0m             page_content\u001B[38;5;241m=\u001B[39mpage\u001B[38;5;241m.\u001B[39mextract_text()\n\u001B[1;32m     98\u001B[0m             \u001B[38;5;241m+\u001B[39m \u001B[38;5;28mself\u001B[39m\u001B[38;5;241m.\u001B[39m_extract_images_from_page(page),\n\u001B[1;32m     99\u001B[0m             metadata\u001B[38;5;241m=\u001B[39m{\u001B[38;5;124m\"\u001B[39m\u001B[38;5;124msource\u001B[39m\u001B[38;5;124m\"\u001B[39m: blob\u001B[38;5;241m.\u001B[39msource, \u001B[38;5;124m\"\u001B[39m\u001B[38;5;124mpage\u001B[39m\u001B[38;5;124m\"\u001B[39m: page_number},\n\u001B[1;32m    100\u001B[0m         )\n\u001B[1;32m    101\u001B[0m         \u001B[38;5;28;01mfor\u001B[39;00m page_number, page \u001B[38;5;129;01min\u001B[39;00m \u001B[38;5;28menumerate\u001B[39m(pdf_reader\u001B[38;5;241m.\u001B[39mpages)\n\u001B[1;32m    102\u001B[0m     ]\n",
      "File \u001B[0;32m/opt/homebrew/anaconda3/lib/python3.11/site-packages/pypdf/_page.py:2076\u001B[0m, in \u001B[0;36mPageObject.extract_text\u001B[0;34m(self, orientations, space_width, visitor_operand_before, visitor_operand_after, visitor_text, extraction_mode, *args, **kwargs)\u001B[0m\n\u001B[1;32m   2073\u001B[0m \u001B[38;5;28;01mif\u001B[39;00m \u001B[38;5;28misinstance\u001B[39m(orientations, \u001B[38;5;28mint\u001B[39m):\n\u001B[1;32m   2074\u001B[0m     orientations \u001B[38;5;241m=\u001B[39m (orientations,)\n\u001B[0;32m-> 2076\u001B[0m \u001B[38;5;28;01mreturn\u001B[39;00m \u001B[38;5;28mself\u001B[39m\u001B[38;5;241m.\u001B[39m_extract_text(\n\u001B[1;32m   2077\u001B[0m     \u001B[38;5;28mself\u001B[39m,\n\u001B[1;32m   2078\u001B[0m     \u001B[38;5;28mself\u001B[39m\u001B[38;5;241m.\u001B[39mpdf,\n\u001B[1;32m   2079\u001B[0m     orientations,\n\u001B[1;32m   2080\u001B[0m     space_width,\n\u001B[1;32m   2081\u001B[0m     PG\u001B[38;5;241m.\u001B[39mCONTENTS,\n\u001B[1;32m   2082\u001B[0m     visitor_operand_before,\n\u001B[1;32m   2083\u001B[0m     visitor_operand_after,\n\u001B[1;32m   2084\u001B[0m     visitor_text,\n\u001B[1;32m   2085\u001B[0m )\n",
      "File \u001B[0;32m/opt/homebrew/anaconda3/lib/python3.11/site-packages/pypdf/_page.py:1799\u001B[0m, in \u001B[0;36mPageObject._extract_text\u001B[0;34m(self, obj, pdf, orientations, space_width, content_key, visitor_operand_before, visitor_operand_after, visitor_text)\u001B[0m\n\u001B[1;32m   1796\u001B[0m         \u001B[38;5;28;01mexcept\u001B[39;00m OrientationNotFoundError:\n\u001B[1;32m   1797\u001B[0m             \u001B[38;5;28;01mreturn\u001B[39;00m \u001B[38;5;28;01mNone\u001B[39;00m\n\u001B[0;32m-> 1799\u001B[0m \u001B[38;5;28;01mfor\u001B[39;00m operands, operator \u001B[38;5;129;01min\u001B[39;00m content\u001B[38;5;241m.\u001B[39moperations:\n\u001B[1;32m   1800\u001B[0m     \u001B[38;5;28;01mif\u001B[39;00m visitor_operand_before \u001B[38;5;129;01mis\u001B[39;00m \u001B[38;5;129;01mnot\u001B[39;00m \u001B[38;5;28;01mNone\u001B[39;00m:\n\u001B[1;32m   1801\u001B[0m         visitor_operand_before(operator, operands, cm_matrix, tm_matrix)\n",
      "File \u001B[0;32m/opt/homebrew/anaconda3/lib/python3.11/site-packages/pypdf/generic/_data_structures.py:1153\u001B[0m, in \u001B[0;36mContentStream.operations\u001B[0;34m(self)\u001B[0m\n\u001B[1;32m   1150\u001B[0m \u001B[38;5;129m@property\u001B[39m\n\u001B[1;32m   1151\u001B[0m \u001B[38;5;28;01mdef\u001B[39;00m \u001B[38;5;21moperations\u001B[39m(\u001B[38;5;28mself\u001B[39m) \u001B[38;5;241m-\u001B[39m\u001B[38;5;241m>\u001B[39m List[Tuple[Any, Any]]:\n\u001B[1;32m   1152\u001B[0m     \u001B[38;5;28;01mif\u001B[39;00m \u001B[38;5;129;01mnot\u001B[39;00m \u001B[38;5;28mself\u001B[39m\u001B[38;5;241m.\u001B[39m_operations \u001B[38;5;129;01mand\u001B[39;00m \u001B[38;5;28mself\u001B[39m\u001B[38;5;241m.\u001B[39m_data:\n\u001B[0;32m-> 1153\u001B[0m         \u001B[38;5;28mself\u001B[39m\u001B[38;5;241m.\u001B[39m_parse_content_stream(BytesIO(b_(\u001B[38;5;28mself\u001B[39m\u001B[38;5;241m.\u001B[39m_data)))\n\u001B[1;32m   1154\u001B[0m         \u001B[38;5;28mself\u001B[39m\u001B[38;5;241m.\u001B[39m_data \u001B[38;5;241m=\u001B[39m \u001B[38;5;124mb\u001B[39m\u001B[38;5;124m\"\u001B[39m\u001B[38;5;124m\"\u001B[39m\n\u001B[1;32m   1155\u001B[0m     \u001B[38;5;28;01mreturn\u001B[39;00m \u001B[38;5;28mself\u001B[39m\u001B[38;5;241m.\u001B[39m_operations\n",
      "File \u001B[0;32m/opt/homebrew/anaconda3/lib/python3.11/site-packages/pypdf/generic/_data_structures.py:1043\u001B[0m, in \u001B[0;36mContentStream._parse_content_stream\u001B[0;34m(self, stream)\u001B[0m\n\u001B[1;32m   1041\u001B[0m         peek \u001B[38;5;241m=\u001B[39m stream\u001B[38;5;241m.\u001B[39mread(\u001B[38;5;241m1\u001B[39m)\n\u001B[1;32m   1042\u001B[0m \u001B[38;5;28;01melse\u001B[39;00m:\n\u001B[0;32m-> 1043\u001B[0m     operands\u001B[38;5;241m.\u001B[39mappend(read_object(stream, \u001B[38;5;28;01mNone\u001B[39;00m, \u001B[38;5;28mself\u001B[39m\u001B[38;5;241m.\u001B[39mforced_encoding))\n",
      "File \u001B[0;32m/opt/homebrew/anaconda3/lib/python3.11/site-packages/pypdf/generic/_data_structures.py:1221\u001B[0m, in \u001B[0;36mread_object\u001B[0;34m(stream, pdf, forced_encoding)\u001B[0m\n\u001B[1;32m   1219\u001B[0m peek \u001B[38;5;241m=\u001B[39m stream\u001B[38;5;241m.\u001B[39mread(\u001B[38;5;241m20\u001B[39m)\n\u001B[1;32m   1220\u001B[0m stream\u001B[38;5;241m.\u001B[39mseek(\u001B[38;5;241m-\u001B[39m\u001B[38;5;28mlen\u001B[39m(peek), \u001B[38;5;241m1\u001B[39m)  \u001B[38;5;66;03m# reset to start\u001B[39;00m\n\u001B[0;32m-> 1221\u001B[0m \u001B[38;5;28;01mif\u001B[39;00m IndirectPattern\u001B[38;5;241m.\u001B[39mmatch(peek) \u001B[38;5;129;01mis\u001B[39;00m \u001B[38;5;129;01mnot\u001B[39;00m \u001B[38;5;28;01mNone\u001B[39;00m:\n\u001B[1;32m   1222\u001B[0m     \u001B[38;5;28;01massert\u001B[39;00m pdf \u001B[38;5;129;01mis\u001B[39;00m \u001B[38;5;129;01mnot\u001B[39;00m \u001B[38;5;28;01mNone\u001B[39;00m  \u001B[38;5;66;03m# hint for mypy\u001B[39;00m\n\u001B[1;32m   1223\u001B[0m     \u001B[38;5;28;01mreturn\u001B[39;00m IndirectObject\u001B[38;5;241m.\u001B[39mread_from_stream(stream, pdf)\n",
      "\u001B[0;31mKeyboardInterrupt\u001B[0m: "
     ]
    }
   ],
   "source": [
    "from langchain_community.document_loaders import DirectoryLoader\n",
    "\n",
    "# 加载PDF\n",
    "pdf_files = DirectoryLoader('../Knowledge_data/pm',glob=\"./*.pdf\", loader_cls=PyPDFLoader)\n",
    "loaders = pdf_files.load()"
   ],
   "metadata": {
    "collapsed": false,
    "ExecuteTime": {
     "end_time": "2024-03-06T04:50:32.833330Z",
     "start_time": "2024-03-06T04:50:28.883920Z"
    }
   },
   "id": "9e0e5238c3506203",
   "execution_count": 2
  },
  {
   "cell_type": "code",
   "outputs": [],
   "source": [
    "print(len(loaders))"
   ],
   "metadata": {
    "collapsed": false,
    "ExecuteTime": {
     "end_time": "2024-03-06T04:50:32.834409Z",
     "start_time": "2024-03-06T04:50:32.834354Z"
    }
   },
   "id": "61e4bcb9614edc57",
   "execution_count": null
  },
  {
   "cell_type": "code",
   "outputs": [],
   "source": [
    "# 切分文档\n",
    "text_splitter = CharacterTextSplitter(chunk_size=1000, chunk_overlap=100)\n",
    "split_docs = text_splitter.split_documents(loaders)"
   ],
   "metadata": {
    "collapsed": false
   },
   "id": "71317de7f97c14b6",
   "execution_count": null
  },
  {
   "cell_type": "code",
   "outputs": [],
   "source": [
    "# 构建文本存储\n",
    "with open('../document_store.txt', 'w') as f:\n",
    "    for line in split_docs:\n",
    "        f.write(str(line))\n",
    "        f.write(\"\\n\")"
   ],
   "metadata": {
    "collapsed": false
   },
   "id": "97d55a0e1761d21f",
   "execution_count": null
  },
  {
   "cell_type": "code",
   "outputs": [],
   "source": [
    "# 构建向量存储\n",
    "# 定义 Embeddings\n",
    "embedding = CustomEmbeddings()\n",
    "# 加载数据库\n",
    "vectordb = Chroma.from_documents(split_docs, embedding, persist_directory=\"../chroma_db\")\n",
    "# 向量持久化\n",
    "vectordb.persist()"
   ],
   "metadata": {
    "collapsed": false
   },
   "id": "115b6cc3e3e82361",
   "execution_count": null
  }
 ],
 "metadata": {
  "kernelspec": {
   "display_name": "Python 3",
   "language": "python",
   "name": "python3"
  },
  "language_info": {
   "codemirror_mode": {
    "name": "ipython",
    "version": 2
   },
   "file_extension": ".py",
   "mimetype": "text/x-python",
   "name": "python",
   "nbconvert_exporter": "python",
   "pygments_lexer": "ipython2",
   "version": "2.7.6"
  }
 },
 "nbformat": 4,
 "nbformat_minor": 5
}
